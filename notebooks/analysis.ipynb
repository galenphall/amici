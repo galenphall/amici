{
 "cells": [
  {
   "cell_type": "code",
   "execution_count": null,
   "id": "249124a4",
   "metadata": {},
   "outputs": [
    {
     "name": "stdout",
     "output_type": "stream",
     "text": [
      "Successfully connected to SQLite database at ../amici/database/supreme_court_docs.db\n"
     ]
    }
   ],
   "source": [
    "import sqlite3\n",
    "import os\n",
    "import pandas as pd\n",
    "\n",
    "# Get relative path to the database file\n",
    "db_path = \"../amici/database/supreme_court_docs.db\"\n",
    "\n",
    "# Check if the file exists\n",
    "if not os.path.exists(db_path):\n",
    "    print(f\"Database file not found at: {db_path}\")\n",
    "    print(f\"Current working directory: {os.getcwd()}\")\n",
    "else:\n",
    "    # Connect to SQLite database\n",
    "    conn = sqlite3.connect(db_path)\n",
    "    cursor = conn.cursor()\n",
    "    print(f\"Successfully connected to SQLite database at {db_path}\")"
   ]
  },
  {
   "cell_type": "markdown",
   "id": "7c60b265",
   "metadata": {},
   "source": [
    "## Testing the Connection\n",
    "\n",
    "Once connected, you can test the connection by executing a simple query:"
   ]
  },
  {
   "cell_type": "code",
   "execution_count": 32,
   "id": "8acee00b",
   "metadata": {},
   "outputs": [
    {
     "name": "stdout",
     "output_type": "stream",
     "text": [
      "Tables in the database:\n",
      "- documents\n",
      "- sqlite_sequence\n",
      "- dockets\n",
      "- amici\n",
      "- lawyers\n"
     ]
    }
   ],
   "source": [
    "# Use this after connecting with either method above\n",
    "try:\n",
    "    # Sample query - adjust table name as needed\n",
    "    cursor.execute(\"SELECT name FROM sqlite_master WHERE type='table';\")\n",
    "    \n",
    "    # Fetch and display results\n",
    "    tables = cursor.fetchall()\n",
    "    print(\"Tables in the database:\")\n",
    "    for table in tables:\n",
    "        print(f\"- {table[0]}\")\n",
    "except Exception as e:\n",
    "    print(f\"Error executing query: {e}\")"
   ]
  },
  {
   "cell_type": "markdown",
   "id": "dfa21e07",
   "metadata": {},
   "source": [
    "## Make excel sheets"
   ]
  },
  {
   "cell_type": "code",
   "execution_count": null,
   "id": "60339ad1",
   "metadata": {},
   "outputs": [],
   "source": [
    "# Make excel sheets from the database\n",
    "try:\n",
    "    # Sample query to fetch data from a specific table\n",
    "    cursor.execute(\"SELECT * FROM your_table_name;\")  # Replace with your actual table name\n",
    "    rows = cursor.fetchall()\n",
    "    \n",
    "    # Print the first few rows\n",
    "    print(\"Sample data from the table:\")\n",
    "    for row in rows[:5]:  # Display first 5 rows\n",
    "        print(row)\n",
    "except Exception as e:\n",
    "    print(f\"Error fetching data: {e}\")"
   ]
  },
  {
   "cell_type": "code",
   "execution_count": 33,
   "id": "6a0b3c30",
   "metadata": {},
   "outputs": [
    {
     "name": "stdout",
     "output_type": "stream",
     "text": [
      "Found 1179 documents with amici list incomplete.\n",
      "\n",
      "Column names: ['document_id', 'url', 'docket_url', 'date', 'date_formatted', 'label', 'doc_title', 'blob', 'transcribed', 'neededOCR', 'complete_amici_list', 'counsel_of_record']\n",
      "\n",
      "First 5 documents with incomplete amici:\n",
      "(4, 'http://www.supremecourt.gov/DocketPDF/22/22-535/252021/20230111151208528_22-506and22-535tsacLawyersCommitteeForCivilRightsUnderLaw.pdf', 'www.supremecourt.gov/search.aspx?filename=/docket/docketfiles/html/public/22-535.html', 'Jan 11 2023', '2023-01-11', 'Brief amici curiae of Lawyers’ Committee For Civil Rights Under Law and 21 Other Organizations filed (also in 22-506).  VIDED.  (Distributed)', 'Main Document', 'SUPREMECOURT/www.supremecourt.gov/DocketPDF/22/22-535/252021/20230111151208528_22-506and22-535tsacLawyersCommitteeForCivilRightsUnderLaw.pdf', 1, 0, 0, 'Damon Hewitt')\n",
      "(29, 'http://www.supremecourt.gov/DocketPDF/19/19-1392/185243/20210729123007530_41063%20pdf%20Pierce.pdf', 'www.supremecourt.gov/search.aspx?filename=/docket/docketfiles/html/public/19-1392.html', 'Jul 29 2021', '2021-07-29', 'Brief amici curiae of Foundation to Abolish Abortion, et al. filed.', 'Main Document', 'SUPREMECOURT/www.supremecourt.gov/DocketPDF/19/19-1392/185243/20210729123007530_41063%20pdf%20Pierce.pdf', 1, 0, 0, 'Bradley W. Pierce')\n",
      "(36, 'http://www.supremecourt.gov/DocketPDF/19/19-1257/162872/20201207152608528_19-1257%20and%2019-1258%20Amicus%20RGPPC%20in%20Support%20of%20Petitioners.pdf', 'www.supremecourt.gov/search.aspx?filename=/docket/docketfiles/html/public/19-1257.html', 'Dec 07 2020', '2020-12-07', 'Brief amicus curiae of Republican Governors Public Policy Committee filed.  VIDED.', 'Main Document', 'SUPREMECOURT/www.supremecourt.gov/DocketPDF/19/19-1257/162872/20201207152608528_19-1257%20and%2019-1258%20Amicus%20RGPPC%20in%20Support%20of%20Petitioners.pdf', 1, 0, 0, 'Jason Torchinsky')\n",
      "(37, 'http://www.supremecourt.gov/DocketPDF/20/20-843/184391/20210720143500686_AMICI%20BRIEF%20OF%20US%20SENATORS.pdf', 'www.supremecourt.gov/search.aspx?filename=/docket/docketfiles/html/public/20-843.html', 'Jul 20 2021', '2021-07-20', 'Brief amici curiae of United States Senator Ted Cruz, and 24 Other U.S. Senators filed.', 'Main Document', 'SUPREMECOURT/www.supremecourt.gov/DocketPDF/20/20-843/184391/20210720143500686_AMICI%20BRIEF%20OF%20US%20SENATORS.pdf', 1, 0, 0, 'Gene C. Schaerr')\n",
      "(41, 'http://www.supremecourt.gov/DocketPDF/24/24-110/323958/20240903153851232_La.%20v.%20Callais.%20States%20Br.%20iso%20No%20Party%20-%20FINAL.pdf', 'www.supremecourt.gov/search.aspx?filename=/docket/docketfiles/html/public/24-110.html', 'Sep 03 2024', '2024-09-03', 'Brief amici curiae of Alabama, et al. filed.  VIDED.', 'Main Document', 'SUPREMECOURT/www.supremecourt.gov/DocketPDF/24/24-110/323958/20240903153851232_La.%20v.%20Callais.%20States%20Br.%20iso%20No%20Party%20-%20FINAL.pdf', 1, 0, 0, 'Edmund G. LaCour Jr.')\n",
      "Blobs of incomplete amici documents have been written to incomplete_amici_blobs.txt\n",
      "Database connection closed.\n"
     ]
    }
   ],
   "source": [
    "try:\n",
    "    # Query to find documents with complete_amici_list=False\n",
    "    cursor.execute(\"SELECT * FROM documents WHERE complete_amici_list=0\")\n",
    "    \n",
    "    # Fetch and display results\n",
    "    documents_with_appendix = cursor.fetchall()\n",
    "    \n",
    "    # Get column names from cursor description\n",
    "    column_names = [description[0] for description in cursor.description]\n",
    "    \n",
    "    # Print count of documents\n",
    "    print(f\"Found {len(documents_with_appendix)} documents with amici list incomplete.\")\n",
    "    \n",
    "    # Display column names and first few results\n",
    "    if documents_with_appendix:\n",
    "        print(\"\\nColumn names:\", column_names)\n",
    "        print(\"\\nFirst 5 documents with incomplete amici:\")\n",
    "        for doc in documents_with_appendix[:5]:\n",
    "            print(doc)\n",
    "except Exception as e:\n",
    "    print(f\"Error executing query: {e}\")\n",
    "\n",
    "# Create a file storing the blobs of all documents with complete_amici_list=False\n",
    "try:\n",
    "    cursor.execute(\"SELECT * FROM documents WHERE complete_amici_list=0\")\n",
    "    documents_with_appendix = cursor.fetchall()\n",
    "    \n",
    "    # Open a file to write the blobs\n",
    "    with open(\"../amici/data/incomplete_amici_blobs.txt\", \"w\") as f:\n",
    "        for doc in documents_with_appendix:\n",
    "            # Assuming the blob is in the first column (index 0)\n",
    "            f.write(doc[7]+'\\n')\n",
    "    \n",
    "    print(\"Blobs of incomplete amici documents have been written to incomplete_amici_blobs.txt\")\n",
    "except Exception as e:\n",
    "    print(f\"Error writing blobs to file: {e}\")\n",
    "# Close the database connection\n",
    "finally:\n",
    "    if conn:\n",
    "        conn.close()\n",
    "        print(\"Database connection closed.\")"
   ]
  },
  {
   "cell_type": "code",
   "execution_count": null,
   "id": "0e6ca4c2",
   "metadata": {},
   "outputs": [],
   "source": []
  }
 ],
 "metadata": {
  "kernelspec": {
   "display_name": "datalab",
   "language": "python",
   "name": "python3"
  },
  "language_info": {
   "codemirror_mode": {
    "name": "ipython",
    "version": 3
   },
   "file_extension": ".py",
   "mimetype": "text/x-python",
   "name": "python",
   "nbconvert_exporter": "python",
   "pygments_lexer": "ipython3",
   "version": "3.13.2"
  }
 },
 "nbformat": 4,
 "nbformat_minor": 5
}
