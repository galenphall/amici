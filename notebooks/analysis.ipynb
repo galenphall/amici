{
 "cells": [
  {
   "cell_type": "code",
   "execution_count": 1,
   "id": "249124a4",
   "metadata": {},
   "outputs": [
    {
     "name": "stdout",
     "output_type": "stream",
     "text": [
      "Successfully connected to SQLite database at ../amici/database/supreme_court_docs.db\n"
     ]
    }
   ],
   "source": [
    "import sqlite3\n",
    "import os\n",
    "import pandas as pd\n",
    "\n",
    "# Get relative path to the database file\n",
    "db_path = \"../amici/database/supreme_court_docs.db\"\n",
    "\n",
    "# Check if the file exists\n",
    "if not os.path.exists(db_path):\n",
    "    print(f\"Database file not found at: {db_path}\")\n",
    "    print(f\"Current working directory: {os.getcwd()}\")\n",
    "else:\n",
    "    # Connect to SQLite database\n",
    "    conn = sqlite3.connect(db_path)\n",
    "    cursor = conn.cursor()\n",
    "    print(f\"Successfully connected to SQLite database at {db_path}\")"
   ]
  },
  {
   "cell_type": "markdown",
   "id": "7c60b265",
   "metadata": {},
   "source": [
    "## Testing the Connection\n",
    "\n",
    "Once connected, you can test the connection by executing a simple query:"
   ]
  },
  {
   "cell_type": "code",
   "execution_count": 2,
   "id": "8acee00b",
   "metadata": {},
   "outputs": [
    {
     "name": "stdout",
     "output_type": "stream",
     "text": [
      "Tables in the database:\n",
      "- documents\n",
      "- sqlite_sequence\n",
      "- dockets\n",
      "- amici\n",
      "- lawyers\n"
     ]
    }
   ],
   "source": [
    "# Use this after connecting with either method above\n",
    "try:\n",
    "    # Sample query - adjust table name as needed\n",
    "    cursor.execute(\"SELECT name FROM sqlite_master WHERE type='table';\")\n",
    "    \n",
    "    # Fetch and display results\n",
    "    tables = cursor.fetchall()\n",
    "    print(\"Tables in the database:\")\n",
    "    for table in tables:\n",
    "        print(f\"- {table[0]}\")\n",
    "except Exception as e:\n",
    "    print(f\"Error executing query: {e}\")"
   ]
  },
  {
   "cell_type": "markdown",
   "id": "dfa21e07",
   "metadata": {},
   "source": [
    "## Make excel sheets"
   ]
  },
  {
   "cell_type": "code",
   "execution_count": 7,
   "id": "60339ad1",
   "metadata": {},
   "outputs": [
    {
     "name": "stdout",
     "output_type": "stream",
     "text": [
      "['amicus_id', 'document_id', 'name', 'category']\n",
      "Sample data from the table:\n",
      "(1998, 524, 'Center for Constitutional Rights', 'organization')\n",
      "(1999, 524, 'Transgender Law Center', 'organization')\n",
      "(2000, 524, 'National Center for Lesbian Rights', 'organization')\n",
      "(2001, 524, 'Make the Road New York', 'organization')\n",
      "(2002, 524, 'Bay Area Lawyers for Individual Freedom', 'organization')\n",
      "(2003, 524, 'Black & Pink National', 'organization')\n",
      "(2004, 524, 'Black Alliance for Just Immigration', 'organization')\n",
      "(2005, 524, 'Black Trans Nation', 'organization')\n",
      "(2006, 524, 'Center for Community Alternatives', 'organization')\n",
      "(2007, 524, 'DC LGBTQ+ Community Center', 'organization')\n",
      "(2008, 524, 'Desiree Alliance', 'organization')\n",
      "(2009, 524, 'Drug Policy Alliance', 'organization')\n",
      "(2010, 524, 'Equality Federation', 'organization')\n",
      "(2011, 524, 'Equality New York', 'organization')\n",
      "(2012, 524, 'Fountain House', 'organization')\n",
      "(2013, 524, 'Free to Be Youth Project', 'organization')\n",
      "(2014, 524, 'GLBTQ Legal Advocates & Defenders', 'organization')\n",
      "(2015, 524, 'GLMA: Health Professionals Advancing LGBTQ+ Equality', 'organization')\n",
      "(2016, 524, 'Harvard LGBTQ+ Advocacy Clinic', 'academic')\n",
      "(2017, 524, 'Housing Works, Inc.', 'organization')\n",
      "(2018, 524, 'Human Rights Campaign Foundation', 'organization')\n",
      "(2019, 524, 'If/When/How: Lawyering for Reproductive Justice', 'organization')\n",
      "(2020, 524, 'LGBT Bar of New York', 'organization')\n",
      "(2021, 524, 'National Center for Lesbian Rights', 'organization')\n",
      "(2022, 524, 'National Center for Transgender Equality', 'organization')\n",
      "(2023, 524, 'National Trans Bar Association', 'organization')\n",
      "(2024, 524, 'National Women’s Law Center', 'organization')\n",
      "(2025, 524, 'New York County Defender Services', 'organization')\n",
      "(2026, 524, 'New York Legal Assistance Group', 'organization')\n",
      "(2027, 524, 'New York Transgender Advocacy Group', 'organization')\n",
      "(2028, 524, 'Phoenix Transition Program', 'organization')\n",
      "(2029, 524, 'Rainbow Health Minnesota', 'organization')\n",
      "(2030, 524, 'Rights Behind Bars', 'organization')\n",
      "(2031, 524, 'Ruth Ellis Center', 'organization')\n",
      "(2032, 524, 'SAGE', 'organization')\n",
      "(2033, 524, 'Sakhi for South Asian Women', 'organization')\n",
      "(2034, 524, 'Sylvia Rivera Law Project', 'organization')\n",
      "(2035, 524, 'Tom Homann LGBTQ+ Law Association', 'organization')\n",
      "(2036, 524, 'Trans Pride Initiative', 'organization')\n",
      "(2037, 524, 'Trans Sistas of Color Project', 'organization')\n",
      "(2038, 524, 'Trans(forming)', 'organization')\n",
      "(2039, 524, 'Transgender Assistance Program of Virginia', 'organization')\n",
      "(2040, 524, 'Transgender Law Center', 'organization')\n",
      "(2041, 524, 'Transgender Legal Defense & Education Fund', 'organization')\n",
      "(2042, 524, 'Transgender Resource Center of New Mexico', 'organization')\n",
      "(2043, 524, 'TransSOCIAL, Inc.', 'organization')\n",
      "(2044, 524, 'Treatment Action Group', 'organization')\n",
      "(2045, 524, 'Women With A Vision', 'organization')\n"
     ]
    }
   ],
   "source": [
    "# Make excel sheets from the database\n",
    "try:\n",
    "    # Sample query to fetch data from a specific table\n",
    "    cursor.execute(\"SELECT * FROM amici WHERE document_id=524;\")  # Replace with your actual table name\n",
    "    rows = cursor.fetchall()\n",
    "\n",
    "    column_names = [description[0] for description in cursor.description]\n",
    "    print(column_names)\n",
    "    \n",
    "    # Print the first few rows\n",
    "    print(\"Sample data from the table:\")\n",
    "    for row in rows:  # Display first 5 rows\n",
    "        print(row)\n",
    "except Exception as e:\n",
    "    print(f\"Error fetching data: {e}\")"
   ]
  },
  {
   "cell_type": "code",
   "execution_count": 33,
   "id": "6a0b3c30",
   "metadata": {},
   "outputs": [
    {
     "name": "stdout",
     "output_type": "stream",
     "text": [
      "Found 1179 documents with amici list incomplete.\n",
      "\n",
      "Column names: ['document_id', 'url', 'docket_url', 'date', 'date_formatted', 'label', 'doc_title', 'blob', 'transcribed', 'neededOCR', 'complete_amici_list', 'counsel_of_record']\n",
      "\n",
      "First 5 documents with incomplete amici:\n",
      "(4, 'http://www.supremecourt.gov/DocketPDF/22/22-535/252021/20230111151208528_22-506and22-535tsacLawyersCommitteeForCivilRightsUnderLaw.pdf', 'www.supremecourt.gov/search.aspx?filename=/docket/docketfiles/html/public/22-535.html', 'Jan 11 2023', '2023-01-11', 'Brief amici curiae of Lawyers’ Committee For Civil Rights Under Law and 21 Other Organizations filed (also in 22-506).  VIDED.  (Distributed)', 'Main Document', 'SUPREMECOURT/www.supremecourt.gov/DocketPDF/22/22-535/252021/20230111151208528_22-506and22-535tsacLawyersCommitteeForCivilRightsUnderLaw.pdf', 1, 0, 0, 'Damon Hewitt')\n",
      "(29, 'http://www.supremecourt.gov/DocketPDF/19/19-1392/185243/20210729123007530_41063%20pdf%20Pierce.pdf', 'www.supremecourt.gov/search.aspx?filename=/docket/docketfiles/html/public/19-1392.html', 'Jul 29 2021', '2021-07-29', 'Brief amici curiae of Foundation to Abolish Abortion, et al. filed.', 'Main Document', 'SUPREMECOURT/www.supremecourt.gov/DocketPDF/19/19-1392/185243/20210729123007530_41063%20pdf%20Pierce.pdf', 1, 0, 0, 'Bradley W. Pierce')\n",
      "(36, 'http://www.supremecourt.gov/DocketPDF/19/19-1257/162872/20201207152608528_19-1257%20and%2019-1258%20Amicus%20RGPPC%20in%20Support%20of%20Petitioners.pdf', 'www.supremecourt.gov/search.aspx?filename=/docket/docketfiles/html/public/19-1257.html', 'Dec 07 2020', '2020-12-07', 'Brief amicus curiae of Republican Governors Public Policy Committee filed.  VIDED.', 'Main Document', 'SUPREMECOURT/www.supremecourt.gov/DocketPDF/19/19-1257/162872/20201207152608528_19-1257%20and%2019-1258%20Amicus%20RGPPC%20in%20Support%20of%20Petitioners.pdf', 1, 0, 0, 'Jason Torchinsky')\n",
      "(37, 'http://www.supremecourt.gov/DocketPDF/20/20-843/184391/20210720143500686_AMICI%20BRIEF%20OF%20US%20SENATORS.pdf', 'www.supremecourt.gov/search.aspx?filename=/docket/docketfiles/html/public/20-843.html', 'Jul 20 2021', '2021-07-20', 'Brief amici curiae of United States Senator Ted Cruz, and 24 Other U.S. Senators filed.', 'Main Document', 'SUPREMECOURT/www.supremecourt.gov/DocketPDF/20/20-843/184391/20210720143500686_AMICI%20BRIEF%20OF%20US%20SENATORS.pdf', 1, 0, 0, 'Gene C. Schaerr')\n",
      "(41, 'http://www.supremecourt.gov/DocketPDF/24/24-110/323958/20240903153851232_La.%20v.%20Callais.%20States%20Br.%20iso%20No%20Party%20-%20FINAL.pdf', 'www.supremecourt.gov/search.aspx?filename=/docket/docketfiles/html/public/24-110.html', 'Sep 03 2024', '2024-09-03', 'Brief amici curiae of Alabama, et al. filed.  VIDED.', 'Main Document', 'SUPREMECOURT/www.supremecourt.gov/DocketPDF/24/24-110/323958/20240903153851232_La.%20v.%20Callais.%20States%20Br.%20iso%20No%20Party%20-%20FINAL.pdf', 1, 0, 0, 'Edmund G. LaCour Jr.')\n",
      "Blobs of incomplete amici documents have been written to incomplete_amici_blobs.txt\n",
      "Database connection closed.\n"
     ]
    }
   ],
   "source": [
    "try:\n",
    "    # Query to find documents with complete_amici_list=False\n",
    "    cursor.execute(\"SELECT * FROM documents WHERE complete_amici_list=0\")\n",
    "    \n",
    "    # Fetch and display results\n",
    "    documents_with_appendix = cursor.fetchall()\n",
    "    \n",
    "    # Get column names from cursor description\n",
    "    column_names = [description[0] for description in cursor.description]\n",
    "    \n",
    "    # Print count of documents\n",
    "    print(f\"Found {len(documents_with_appendix)} documents with amici list incomplete.\")\n",
    "    \n",
    "    # Display column names and first few results\n",
    "    if documents_with_appendix:\n",
    "        print(\"\\nColumn names:\", column_names)\n",
    "        print(\"\\nFirst 5 documents with incomplete amici:\")\n",
    "        for doc in documents_with_appendix[:5]:\n",
    "            print(doc)\n",
    "except Exception as e:\n",
    "    print(f\"Error executing query: {e}\")\n",
    "\n",
    "# Create a file storing the blobs of all documents with complete_amici_list=False\n",
    "try:\n",
    "    cursor.execute(\"SELECT * FROM documents WHERE complete_amici_list=0\")\n",
    "    documents_with_appendix = cursor.fetchall()\n",
    "    \n",
    "    # Open a file to write the blobs\n",
    "    with open(\"../amici/data/incomplete_amici_blobs.txt\", \"w\") as f:\n",
    "        for doc in documents_with_appendix:\n",
    "            # Assuming the blob is in the first column (index 0)\n",
    "            f.write(doc[7]+'\\n')\n",
    "    \n",
    "    print(\"Blobs of incomplete amici documents have been written to incomplete_amici_blobs.txt\")\n",
    "except Exception as e:\n",
    "    print(f\"Error writing blobs to file: {e}\")\n",
    "# Close the database connection\n",
    "finally:\n",
    "    if conn:\n",
    "        conn.close()\n",
    "        print(\"Database connection closed.\")"
   ]
  },
  {
   "cell_type": "code",
   "execution_count": 8,
   "id": "0e6ca4c2",
   "metadata": {},
   "outputs": [
    {
     "name": "stdout",
     "output_type": "stream",
     "text": [
      "5404\n"
     ]
    }
   ],
   "source": [
    "import pandas as pd\n",
    "import numpy as np\n",
    "df = pd.read_csv(\"../amici/data/features.csv\")\n",
    "df['leftrightsorted'] = df.apply(lambda row: '\\t'.join(sorted([row['left_norm'], row['right_norm']])), axis=1)\n",
    "df = df.drop_duplicates(subset=['leftrightsorted'])\n",
    "df['combo'] = df.hbsbm_prob * df.sentence_cross_encoding\n",
    "print(len(df))"
   ]
  },
  {
   "cell_type": "code",
   "execution_count": 64,
   "id": "772622b4",
   "metadata": {},
   "outputs": [],
   "source": [
    "all_names = set(df.left_norm.tolist() + df.right_norm.tolist())\n",
    "all_names = sorted(all_names)\n",
    "\n",
    "P = df.set_index(['left_norm', 'right_norm']).pivot_table(index='left_norm', columns='right_norm', values='combo', fill_value=0)\n",
    "P = P.reindex(index=all_names, columns=all_names, fill_value=0)\n",
    "# Make sure P is symmetric; fill upper triangle with lower triangle values\n",
    "P = P.where(np.triu(np.ones(P.shape), k=1).astype(bool), P.T)\n",
    "P = P.values\n",
    "P = np.nan_to_num(P, nan=0.0)  # Replace NaN with 0\n",
    "# np.fill_diagonal(P, 1)  # Set diagonal to 0\n",
    "# Replace 0 values with a small random number from the exponential distribution\n",
    "# fill_value = np.random.exponential(0.1, size=P.shape)\n",
    "# P[P == 0] = fill_value[P == 0]\n",
    "\n",
    "Q = np.linalg.inv(np.identity(P.shape[0]) - 0.9 * P)# - np.linalg.inv(np.identity(P.shape[0]) - (1 - P))\n",
    "Q = pd.DataFrame(Q, index=all_names, columns=all_names)\n",
    "# Q = Q.fillna(0)"
   ]
  },
  {
   "cell_type": "code",
   "execution_count": 65,
   "id": "782e020a",
   "metadata": {},
   "outputs": [
    {
     "data": {
      "text/html": [
       "<div>\n",
       "<style scoped>\n",
       "    .dataframe tbody tr th:only-of-type {\n",
       "        vertical-align: middle;\n",
       "    }\n",
       "\n",
       "    .dataframe tbody tr th {\n",
       "        vertical-align: top;\n",
       "    }\n",
       "\n",
       "    .dataframe thead th {\n",
       "        text-align: right;\n",
       "    }\n",
       "</style>\n",
       "<table border=\"1\" class=\"dataframe\">\n",
       "  <thead>\n",
       "    <tr style=\"text-align: right;\">\n",
       "      <th></th>\n",
       "      <th>source</th>\n",
       "      <th>target</th>\n",
       "      <th>weight</th>\n",
       "    </tr>\n",
       "  </thead>\n",
       "  <tbody>\n",
       "    <tr>\n",
       "      <th>5470949</th>\n",
       "      <td>georgia conservation voters</td>\n",
       "      <td>georgia conservation voters education fund</td>\n",
       "      <td>36.576935</td>\n",
       "    </tr>\n",
       "    <tr>\n",
       "      <th>5475561</th>\n",
       "      <td>georgia conservation voters education fund</td>\n",
       "      <td>montana conservation voters education fund</td>\n",
       "      <td>34.972152</td>\n",
       "    </tr>\n",
       "    <tr>\n",
       "      <th>6586388</th>\n",
       "      <td>internet assn.</td>\n",
       "      <td>internet soc.</td>\n",
       "      <td>26.876799</td>\n",
       "    </tr>\n",
       "    <tr>\n",
       "      <th>6696411</th>\n",
       "      <td>intl. municipal lawyers assn..</td>\n",
       "      <td>intl. municipal lawyers’ assn.</td>\n",
       "      <td>26.333210</td>\n",
       "    </tr>\n",
       "    <tr>\n",
       "      <th>6703997</th>\n",
       "      <td>intl. municipal lawyer’s assn.</td>\n",
       "      <td>intl. municipal lawyers’ assn.</td>\n",
       "      <td>26.260665</td>\n",
       "    </tr>\n",
       "    <tr>\n",
       "      <th>...</th>\n",
       "      <td>...</td>\n",
       "      <td>...</td>\n",
       "      <td>...</td>\n",
       "    </tr>\n",
       "    <tr>\n",
       "      <th>4405383</th>\n",
       "      <td>emory intellectual property soc.</td>\n",
       "      <td>inst. for intellectual property and social jus...</td>\n",
       "      <td>0.200461</td>\n",
       "    </tr>\n",
       "    <tr>\n",
       "      <th>8429825</th>\n",
       "      <td>minnesota school boards assn.</td>\n",
       "      <td>iowa assn. of school boards</td>\n",
       "      <td>0.200404</td>\n",
       "    </tr>\n",
       "    <tr>\n",
       "      <th>11424703</th>\n",
       "      <td>public defender service for the district of co...</td>\n",
       "      <td>american civil liberties union fdn. of arizona</td>\n",
       "      <td>0.200394</td>\n",
       "    </tr>\n",
       "    <tr>\n",
       "      <th>9365149</th>\n",
       "      <td>natl. fed. for the blind</td>\n",
       "      <td>american council of the blind</td>\n",
       "      <td>0.200284</td>\n",
       "    </tr>\n",
       "    <tr>\n",
       "      <th>751228</th>\n",
       "      <td>american civil liberties union of illinois</td>\n",
       "      <td>american civil liberties union of washington</td>\n",
       "      <td>0.200091</td>\n",
       "    </tr>\n",
       "  </tbody>\n",
       "</table>\n",
       "<p>1554 rows × 3 columns</p>\n",
       "</div>"
      ],
      "text/plain": [
       "                                                     source  \\\n",
       "5470949                         georgia conservation voters   \n",
       "5475561          georgia conservation voters education fund   \n",
       "6586388                                      internet assn.   \n",
       "6696411                      intl. municipal lawyers assn..   \n",
       "6703997                      intl. municipal lawyer’s assn.   \n",
       "...                                                     ...   \n",
       "4405383                    emory intellectual property soc.   \n",
       "8429825                       minnesota school boards assn.   \n",
       "11424703  public defender service for the district of co...   \n",
       "9365149                            natl. fed. for the blind   \n",
       "751228           american civil liberties union of illinois   \n",
       "\n",
       "                                                     target     weight  \n",
       "5470949          georgia conservation voters education fund  36.576935  \n",
       "5475561          montana conservation voters education fund  34.972152  \n",
       "6586388                                       internet soc.  26.876799  \n",
       "6696411                      intl. municipal lawyers’ assn.  26.333210  \n",
       "6703997                      intl. municipal lawyers’ assn.  26.260665  \n",
       "...                                                     ...        ...  \n",
       "4405383   inst. for intellectual property and social jus...   0.200461  \n",
       "8429825                         iowa assn. of school boards   0.200404  \n",
       "11424703     american civil liberties union fdn. of arizona   0.200394  \n",
       "9365149                       american council of the blind   0.200284  \n",
       "751228         american civil liberties union of washington   0.200091  \n",
       "\n",
       "[1554 rows x 3 columns]"
      ]
     },
     "execution_count": 65,
     "metadata": {},
     "output_type": "execute_result"
    }
   ],
   "source": [
    "Q[abs(Q) < 0.2] = 0\n",
    "np.fill_diagonal(Q.values, 0)  # Set diagonal to 0\n",
    "# Get the edges and weights\n",
    "W = Q.stack().reset_index()\n",
    "W.columns = ['source', 'target', 'weight']\n",
    "W = W[W['weight'] > 0]\n",
    "W = W.sort_values(by='weight', ascending=False)\n",
    "W['leftrightsorted'] = W.apply(lambda row: '\\t'.join(sorted([row['source'], row['target']])), axis=1)\n",
    "W = W.drop_duplicates(subset=['leftrightsorted'])\n",
    "W = W.drop(columns=['leftrightsorted'])\n",
    "W"
   ]
  },
  {
   "cell_type": "code",
   "execution_count": 16,
   "id": "74d9967e",
   "metadata": {},
   "outputs": [
    {
     "data": {
      "text/plain": [
       "right_norm\n",
       "(new) orleans public defenders                     0.000000\n",
       "10 members of the united states senate             0.000000\n",
       "138 women hurt by planned parenthood abortions     0.000000\n",
       "21 in right.                                       0.000000\n",
       "2556 operation outcry women injured by abortion    0.000000\n",
       "                                                     ...   \n",
       "young ctr. for immigrant children’s rights         0.061428\n",
       "youth oasis                                        0.150951\n",
       "ywca kalamazoo                                     0.000000\n",
       "zionist org. of america                            0.000000\n",
       "zoological assn. of america                        0.222671\n",
       "Length: 3793, dtype: float64"
      ]
     },
     "execution_count": 16,
     "metadata": {},
     "output_type": "execute_result"
    }
   ],
   "source": [
    "P.sum()"
   ]
  },
  {
   "cell_type": "code",
   "execution_count": null,
   "id": "f2fc243b",
   "metadata": {},
   "outputs": [],
   "source": []
  }
 ],
 "metadata": {
  "kernelspec": {
   "display_name": "datalab",
   "language": "python",
   "name": "python3"
  },
  "language_info": {
   "codemirror_mode": {
    "name": "ipython",
    "version": 3
   },
   "file_extension": ".py",
   "mimetype": "text/x-python",
   "name": "python",
   "nbconvert_exporter": "python",
   "pygments_lexer": "ipython3",
   "version": "3.13.2"
  }
 },
 "nbformat": 4,
 "nbformat_minor": 5
}
